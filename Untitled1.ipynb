{
  "nbformat": 4,
  "nbformat_minor": 0,
  "metadata": {
    "colab": {
      "provenance": [],
      "collapsed_sections": []
    },
    "kernelspec": {
      "name": "python3",
      "display_name": "Python 3"
    },
    "language_info": {
      "name": "python"
    }
  },
  "cells": [
    {
      "cell_type": "code",
      "execution_count": 1,
      "metadata": {
        "colab": {
          "base_uri": "https://localhost:8080/"
        },
        "id": "2JJaXpVr1MUh",
        "outputId": "9812f823-5c6d-40d1-97d6-86413fe059c5"
      },
      "outputs": [
        {
          "output_type": "stream",
          "name": "stdout",
          "text": [
            "hello word\n"
          ]
        }
      ],
      "source": [
        "print(\"hello word\")"
      ]
    },
    {
      "cell_type": "code",
      "source": [
        "print(100)"
      ],
      "metadata": {
        "colab": {
          "base_uri": "https://localhost:8080/"
        },
        "id": "9URGADWj1Nqy",
        "outputId": "59f6c78c-543b-4808-b367-f09926ca4af6"
      },
      "execution_count": 2,
      "outputs": [
        {
          "output_type": "stream",
          "name": "stdout",
          "text": [
            "100\n"
          ]
        }
      ]
    },
    {
      "cell_type": "code",
      "source": [
        "type(\"hello word\")"
      ],
      "metadata": {
        "colab": {
          "base_uri": "https://localhost:8080/"
        },
        "id": "cCuqtY4I1Nv-",
        "outputId": "6e061472-95bd-4715-baea-1c03d19e2bfe"
      },
      "execution_count": 3,
      "outputs": [
        {
          "output_type": "execute_result",
          "data": {
            "text/plain": [
              "str"
            ]
          },
          "metadata": {},
          "execution_count": 3
        }
      ]
    },
    {
      "cell_type": "code",
      "source": [
        "x=900"
      ],
      "metadata": {
        "id": "2dDkJHUL1NzU"
      },
      "execution_count": 4,
      "outputs": []
    },
    {
      "cell_type": "code",
      "source": [
        "print(x)"
      ],
      "metadata": {
        "colab": {
          "base_uri": "https://localhost:8080/"
        },
        "id": "SeJPZGYT1N2U",
        "outputId": "98669422-23ea-4512-ade4-d45cf1279520"
      },
      "execution_count": 5,
      "outputs": [
        {
          "output_type": "stream",
          "name": "stdout",
          "text": [
            "900\n"
          ]
        }
      ]
    },
    {
      "cell_type": "code",
      "source": [
        "s=100"
      ],
      "metadata": {
        "id": "Tpejltsb1N6z"
      },
      "execution_count": 6,
      "outputs": []
    },
    {
      "cell_type": "code",
      "source": [
        "s+=x"
      ],
      "metadata": {
        "id": "AiWdkLuM1N-Z"
      },
      "execution_count": 7,
      "outputs": []
    },
    {
      "cell_type": "code",
      "source": [
        "s"
      ],
      "metadata": {
        "colab": {
          "base_uri": "https://localhost:8080/"
        },
        "id": "1EVe6c7y1OCA",
        "outputId": "db312941-521c-4bec-f7d3-77452506f1eb"
      },
      "execution_count": 8,
      "outputs": [
        {
          "output_type": "execute_result",
          "data": {
            "text/plain": [
              "1000"
            ]
          },
          "metadata": {},
          "execution_count": 8
        }
      ]
    },
    {
      "cell_type": "code",
      "source": [
        "id(s)"
      ],
      "metadata": {
        "colab": {
          "base_uri": "https://localhost:8080/"
        },
        "id": "7NMw5WyZ1p9p",
        "outputId": "3d25c684-9182-4e15-84a5-7ffd97cb6c37"
      },
      "execution_count": 9,
      "outputs": [
        {
          "output_type": "execute_result",
          "data": {
            "text/plain": [
              "140595743451728"
            ]
          },
          "metadata": {},
          "execution_count": 9
        }
      ]
    },
    {
      "cell_type": "code",
      "source": [
        "x=100\n",
        "y=101"
      ],
      "metadata": {
        "id": "5LLnIE4u1qBS"
      },
      "execution_count": 18,
      "outputs": []
    },
    {
      "cell_type": "code",
      "source": [
        "id(x)"
      ],
      "metadata": {
        "colab": {
          "base_uri": "https://localhost:8080/"
        },
        "id": "jcOxIl6r1qHR",
        "outputId": "c744390e-f210-42e5-96d9-439999d1d31d"
      },
      "execution_count": 19,
      "outputs": [
        {
          "output_type": "execute_result",
          "data": {
            "text/plain": [
              "11259232"
            ]
          },
          "metadata": {},
          "execution_count": 19
        }
      ]
    },
    {
      "cell_type": "code",
      "source": [
        "id(y)"
      ],
      "metadata": {
        "colab": {
          "base_uri": "https://localhost:8080/"
        },
        "id": "pzSsWqX_1OFY",
        "outputId": "f3e9d2f8-ed47-4922-d9f3-6eb0e4aed9b3"
      },
      "execution_count": 20,
      "outputs": [
        {
          "output_type": "execute_result",
          "data": {
            "text/plain": [
              "11259264"
            ]
          },
          "metadata": {},
          "execution_count": 20
        }
      ]
    },
    {
      "cell_type": "code",
      "source": [
        "name='rahed'"
      ],
      "metadata": {
        "id": "wCbXu-QR14dN"
      },
      "execution_count": 21,
      "outputs": []
    },
    {
      "cell_type": "code",
      "source": [
        "_var=100"
      ],
      "metadata": {
        "id": "dJ9kOnwo14kn"
      },
      "execution_count": 22,
      "outputs": []
    },
    {
      "cell_type": "code",
      "source": [
        "name='rashed'"
      ],
      "metadata": {
        "id": "qzG1aKG82D43"
      },
      "execution_count": 23,
      "outputs": []
    },
    {
      "cell_type": "code",
      "source": [
        "x,y,z=100,300,400"
      ],
      "metadata": {
        "id": "xnsQqt1Y2D-B"
      },
      "execution_count": 25,
      "outputs": []
    },
    {
      "cell_type": "code",
      "source": [
        "x=100\n",
        "def myfunction():\n",
        "    print('this is 2:',x)\n",
        "\n",
        "\n",
        "myfunction()\n",
        "print(x)\n",
        "\n",
        "\n",
        "\n",
        "\n",
        "\n"
      ],
      "metadata": {
        "colab": {
          "base_uri": "https://localhost:8080/"
        },
        "id": "OnRpCRWe2EBj",
        "outputId": "d977a4c0-7a33-4c22-b6d2-1fbaab087257"
      },
      "execution_count": 26,
      "outputs": [
        {
          "output_type": "stream",
          "name": "stdout",
          "text": [
            "this is 2: 100\n",
            "100\n"
          ]
        }
      ]
    },
    {
      "cell_type": "code",
      "source": [
        "def myfunction1():\n",
        "    var10 = 15 \n",
        "    print('This is 1:',var10)\n",
        "  \n",
        "myfunction1()\n",
        "\n",
        "print('This is 1:',x)\n",
        "\n",
        "print('This is 2:',x)"
      ],
      "metadata": {
        "colab": {
          "base_uri": "https://localhost:8080/"
        },
        "id": "iHRp0uIn2EGo",
        "outputId": "a15b0efd-700c-4c4d-f858-815744c3493f"
      },
      "execution_count": 28,
      "outputs": [
        {
          "output_type": "stream",
          "name": "stdout",
          "text": [
            "This is 1: 15\n",
            "This is 1: 100\n",
            "This is 2: 100\n"
          ]
        }
      ]
    },
    {
      "cell_type": "code",
      "source": [
        "c='llllllllllllll ttt'"
      ],
      "metadata": {
        "id": "RuIBidY12sb4"
      },
      "execution_count": 29,
      "outputs": []
    },
    {
      "cell_type": "code",
      "source": [
        "c"
      ],
      "metadata": {
        "colab": {
          "base_uri": "https://localhost:8080/",
          "height": 36
        },
        "id": "zL6kK4SE2sfi",
        "outputId": "b11ec2a1-2a68-4614-fefd-42aefb88806e"
      },
      "execution_count": 30,
      "outputs": [
        {
          "output_type": "execute_result",
          "data": {
            "text/plain": [
              "'llllllllllllll ttt'"
            ],
            "application/vnd.google.colaboratory.intrinsic+json": {
              "type": "string"
            }
          },
          "metadata": {},
          "execution_count": 30
        }
      ]
    },
    {
      "cell_type": "code",
      "source": [
        "c.split()"
      ],
      "metadata": {
        "colab": {
          "base_uri": "https://localhost:8080/"
        },
        "id": "RqBxEqtb2si0",
        "outputId": "c954ec88-5f72-41dc-a2b1-0ec34d490b75"
      },
      "execution_count": 31,
      "outputs": [
        {
          "output_type": "execute_result",
          "data": {
            "text/plain": [
              "['llllllllllllll', 'ttt']"
            ]
          },
          "metadata": {},
          "execution_count": 31
        }
      ]
    },
    {
      "cell_type": "code",
      "source": [
        "c.upper()"
      ],
      "metadata": {
        "colab": {
          "base_uri": "https://localhost:8080/",
          "height": 36
        },
        "id": "c5YnVVNk2smw",
        "outputId": "13725b98-6dd8-4365-ea9d-8d7776b2faf3"
      },
      "execution_count": 32,
      "outputs": [
        {
          "output_type": "execute_result",
          "data": {
            "text/plain": [
              "'LLLLLLLLLLLLLL TTT'"
            ],
            "application/vnd.google.colaboratory.intrinsic+json": {
              "type": "string"
            }
          },
          "metadata": {},
          "execution_count": 32
        }
      ]
    },
    {
      "cell_type": "code",
      "source": [
        "x = 10\n",
        "y = 200\n",
        "\n",
        "if x>y:\n",
        "    print('no')"
      ],
      "metadata": {
        "id": "-Nqq3xN72srR"
      },
      "execution_count": 34,
      "outputs": []
    },
    {
      "cell_type": "code",
      "source": [
        "if y>x:\n",
        "    print('no')"
      ],
      "metadata": {
        "colab": {
          "base_uri": "https://localhost:8080/"
        },
        "id": "UU4p-A2u2suR",
        "outputId": "a33d27b5-2419-461a-a6ba-d7e9142b84f5"
      },
      "execution_count": 35,
      "outputs": [
        {
          "output_type": "stream",
          "name": "stdout",
          "text": [
            "no\n"
          ]
        }
      ]
    },
    {
      "cell_type": "code",
      "source": [
        "x = 10\n",
        "y = 200\n",
        "\n",
        "if x>y:\n",
        "    print('no')\n",
        "    \n",
        "elif x == y:\n",
        "    print('okay')\n",
        "    \n",
        "if y>x:\n",
        "    print('ok')\n",
        "    \n",
        "else:\n",
        "    print('done')"
      ],
      "metadata": {
        "colab": {
          "base_uri": "https://localhost:8080/"
        },
        "id": "VG1B4OAL2sxu",
        "outputId": "4e09e896-eaf3-47f8-b621-c529d6e724ec"
      },
      "execution_count": 37,
      "outputs": [
        {
          "output_type": "stream",
          "name": "stdout",
          "text": [
            "ok\n"
          ]
        }
      ]
    },
    {
      "cell_type": "code",
      "source": [
        "x = [10,20,30]\n",
        "\n",
        "for y in range(len(x)):\n",
        "    print(x[y],y)"
      ],
      "metadata": {
        "colab": {
          "base_uri": "https://localhost:8080/"
        },
        "id": "8X_PURYW3Tcx",
        "outputId": "ed8c6281-7328-4e1b-ccae-e6eae0cbecc3"
      },
      "execution_count": 39,
      "outputs": [
        {
          "output_type": "stream",
          "name": "stdout",
          "text": [
            "10 0\n",
            "20 1\n",
            "30 2\n"
          ]
        }
      ]
    },
    {
      "cell_type": "code",
      "source": [
        "range(10,30)"
      ],
      "metadata": {
        "colab": {
          "base_uri": "https://localhost:8080/"
        },
        "id": "gTWlVjfa3Tgg",
        "outputId": "7b68a3f9-d548-4387-9ccc-cffe85587f69"
      },
      "execution_count": 40,
      "outputs": [
        {
          "output_type": "execute_result",
          "data": {
            "text/plain": [
              "range(10, 30)"
            ]
          },
          "metadata": {},
          "execution_count": 40
        }
      ]
    },
    {
      "cell_type": "code",
      "source": [
        "for x in range(3,10,2): \n",
        "    print(x)"
      ],
      "metadata": {
        "colab": {
          "base_uri": "https://localhost:8080/"
        },
        "id": "qFFgZBfZ3TkJ",
        "outputId": "c22f2a0a-c5e1-4e64-cc48-4072d02fe4df"
      },
      "execution_count": 41,
      "outputs": [
        {
          "output_type": "stream",
          "name": "stdout",
          "text": [
            "3\n",
            "5\n",
            "7\n",
            "9\n"
          ]
        }
      ]
    },
    {
      "cell_type": "code",
      "source": [
        "for x in range(1,11): \n",
        "    print(x, ' data science ','ml')"
      ],
      "metadata": {
        "colab": {
          "base_uri": "https://localhost:8080/"
        },
        "id": "iuzRFVbI3ToU",
        "outputId": "45aca8ef-f99d-4fa8-c0d2-f9d7dce023cd"
      },
      "execution_count": 42,
      "outputs": [
        {
          "output_type": "stream",
          "name": "stdout",
          "text": [
            "1  data science  ml\n",
            "2  data science  ml\n",
            "3  data science  ml\n",
            "4  data science  ml\n",
            "5  data science  ml\n",
            "6  data science  ml\n",
            "7  data science  ml\n",
            "8  data science  ml\n",
            "9  data science  ml\n",
            "10  data science  ml\n"
          ]
        }
      ]
    },
    {
      "cell_type": "code",
      "source": [
        "i = 1\n",
        "while i<11:\n",
        "    print(i)\n",
        "    i=i+1"
      ],
      "metadata": {
        "colab": {
          "base_uri": "https://localhost:8080/"
        },
        "id": "GKix1YoU3rzt",
        "outputId": "3db34c3a-80e4-4ab9-9f29-2ab5d404c3ab"
      },
      "execution_count": 43,
      "outputs": [
        {
          "output_type": "stream",
          "name": "stdout",
          "text": [
            "1\n",
            "2\n",
            "3\n",
            "4\n",
            "5\n",
            "6\n",
            "7\n",
            "8\n",
            "9\n",
            "10\n"
          ]
        }
      ]
    },
    {
      "cell_type": "code",
      "source": [
        "for x in range(1,11): \n",
        "    print(x)"
      ],
      "metadata": {
        "colab": {
          "base_uri": "https://localhost:8080/"
        },
        "id": "U3uHrv-z3r6p",
        "outputId": "d09328cb-4ebe-4931-9b89-c590b6526858"
      },
      "execution_count": 45,
      "outputs": [
        {
          "output_type": "stream",
          "name": "stdout",
          "text": [
            "1\n",
            "2\n",
            "3\n",
            "4\n",
            "5\n",
            "6\n",
            "7\n",
            "8\n",
            "9\n",
            "10\n"
          ]
        }
      ]
    },
    {
      "cell_type": "code",
      "source": [
        "i = 1\n",
        "while i<11:\n",
        "    print(i,'rashed')\n",
        "    i=i+1"
      ],
      "metadata": {
        "colab": {
          "base_uri": "https://localhost:8080/"
        },
        "id": "H1-T5p-b3r-T",
        "outputId": "e90c4024-c4a7-479d-8fc8-eb6acdf79cf5"
      },
      "execution_count": 46,
      "outputs": [
        {
          "output_type": "stream",
          "name": "stdout",
          "text": [
            "1 rashed\n",
            "2 rashed\n",
            "3 rashed\n",
            "4 rashed\n",
            "5 rashed\n",
            "6 rashed\n",
            "7 rashed\n",
            "8 rashed\n",
            "9 rashed\n",
            "10 rashed\n"
          ]
        }
      ]
    },
    {
      "cell_type": "code",
      "source": [],
      "metadata": {
        "id": "3xSKtoGg2EKd"
      },
      "execution_count": null,
      "outputs": []
    }
  ]
}